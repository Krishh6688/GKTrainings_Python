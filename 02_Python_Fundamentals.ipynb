{
 "cells": [
  {
   "cell_type": "markdown",
   "id": "8c816144",
   "metadata": {},
   "source": [
    "# Python Introduction\n",
    "\n",
    "- `Creator`: Guido van Rossum \n",
    "- `Release Year` : 20 February 1991.\n",
    "- `Naming`: Van Rossum named the language after the British comedy series `Monty Python's Flying Circus`\n"
   ]
  },
  {
   "cell_type": "markdown",
   "id": "1bb22805",
   "metadata": {},
   "source": [
    "\n",
    "\n",
    "# Python Features\n",
    "Python is a high-level, interpreted programming language known for its simplicity, readability, and flexibility. Its key features include:\n",
    "\n",
    "- `Easy to Learn and Use`: Python’s syntax is simple, clean, and similar to English, making it accessible for beginners and productive for experienced programmers.\n",
    "- `Open Source and Free`: Python is freely available to everyone and supported by a large, active community contributing libraries and tools.\n",
    "- `Interpreted Language`0: Python code is executed line-by-line, which simplifies debugging and speeds up development cycles\n",
    "- `Dynamically Typed`: Variable types are determined at runtime, so there is no need to declare types explicitly, enhancing flexibility.\n",
    "- `Object-Oriented Programming (OOP)`: Python supports OOP concepts like classes, inheritance, encapsulation, and polymorphism, facilitating code reuse and modularity.\n",
    "- `Extensive Standard Library`: Python comes with a rich set of built-in modules covering tasks from file I/O to web protocols, reducing the need for external packages.\n",
    "- `Cross-Platform Compatibility`: Python code runs on various operating systems such as Windows, macOS, and Linux without modification.\n",
    "- `High-Level Language`: Python abstracts away many complex details of the computer hardware, allowing programmers to focus on problem-solving instead of memory management.\n",
    "- `GUI Programming Support`: It supports graphical user interface creation through libraries like Tkinter, PyQt, and Kivy for desktop applications.\n",
    "- `Multiple Programming Paradigms`: Supports procedural, object-oriented, and functional programming styles, providing flexibility for different development needs.\n"
   ]
  },
  {
   "cell_type": "markdown",
   "id": "1c671fff",
   "metadata": {},
   "source": [
    "# Applications of Python\n",
    "\n",
    "**Python is an incredibly versatile programming language widely used across multiple industries and applications. Some of the major applications of Python include:**\n",
    "\n",
    "- **Web Development**: Python powers backend development for websites and web applications through frameworks like Django and Flask.\n",
    "- **Data Science and Analysis**: Popular in extracting insights from large datasets using libraries like Pandas, NumPy, and Matplotlib.\n",
    "- **Artificial Intelligence and Machine Learning**: Python is a leading language in AI/ML, supported by frameworks such as TensorFlow, PyTorch, and scikit-learn.\n",
    "- **Automation and Scripting**: Used to automate repetitive tasks, system administration, and build scripts to enhance productivity.\n",
    "- **Scientific and Numeric Computing**: Libraries like SciPy and SymPy enable complex mathematical computations and simulations.\n",
    "- **Internet of Things (IoT)**: Python interfaces with sensors and microcontrollers, notably on platforms like Raspberry Pi for hardware projects.\n",
    "- **Finance and FinTech**: Python helps with algorithmic trading, risk management, and financial analysis due to strong data handling.\n",
    "- **Healthcare**: Used to develop medical software, diagnostic tools, and analyze healthcare data.\n",
    "- **Cloud and DevOps**: Python scripts automate cloud infrastructure management, continuous integration, and deployment pipelines.\n",
    "- **Gaming and Multimedia**: Python supports game development and multimedia processing via libraries like Pygame.\n",
    "- **Education**: Due to its simplicity, Python is widely adopted for teaching programming concepts and computational thinking.\n",
    "- **Transportation and Logistics**: Helps optimize routes, fleet management, and supply chain through algorithmic solutions.\n",
    "- **Artificial Reality (AR) and Virtual Reality (VR)**: Emerging usage for creating interactive and immersive applications.\n",
    "\n"
   ]
  },
  {
   "cell_type": "markdown",
   "id": "d653b448",
   "metadata": {},
   "source": [
    "# First program in python"
   ]
  },
  {
   "cell_type": "code",
   "execution_count": null,
   "id": "77b641fd",
   "metadata": {},
   "outputs": [],
   "source": [
    "print(\"All power is within you\")"
   ]
  },
  {
   "cell_type": "markdown",
   "id": "afd5005a",
   "metadata": {},
   "source": [
    "# Interpreter and Python Virtual Machine\n",
    "**Python Interpreter**\n",
    "- The Python interpreter is the program that reads and executes Python code. \n",
    "- When you run a Python script, the interpreter\n",
    "    - Reads your source code (.py files)\n",
    "    - Parses it to check for syntax errors\n",
    "    - Compiles it into bytecode (an intermediate representation)\n",
    "    - Executes the bytecode\n",
    "    - The most common Python interpreter is CPython (written in C), \n",
    "    - but there are others like PyPy(a faster alternative interpreter), Jython(runs on JVM), and IronPython(runs on .NET).\n",
    "\n",
    "**Python Virtual Machine**\n",
    "- The Python Virtual Machine is the runtime engine that actually executes Python bytecode"
   ]
  },
  {
   "cell_type": "code",
   "execution_count": null,
   "id": "35286a34",
   "metadata": {},
   "outputs": [],
   "source": [
    "import sys\n",
    "print(\"Implementation name : \",sys.implementation.name)"
   ]
  },
  {
   "cell_type": "markdown",
   "id": "6bb6f3f8",
   "metadata": {},
   "source": [
    "\n",
    "# Variable and rules for naming variables\n",
    "\n",
    "- `variable` ==> place holder for a value\n",
    "- `Allowed Characters`: Variable names can include letters (a-z, A-Z), digits (0-9), and special character underscores (_)\n",
    "- Must Start with Letter or Underscore: Variable names cannot begin with a digit.\n",
    "- Case Sensitive\n",
    "- `No Reserved Keywords`: Cannot use Python reserved keywords like for, if, while, class as variable names.\n",
    "- `Use Meaningful Names`: Although not a strict rule, it is best practice to use descriptive names using lowercase letters and underscores to separate words (snake_case).\n",
    "- If we violates the rules of python ==> `SyntaxError`\n"
   ]
  },
  {
   "cell_type": "code",
   "execution_count": null,
   "id": "91e11e27",
   "metadata": {},
   "outputs": [],
   "source": [
    "help('keywords')"
   ]
  },
  {
   "cell_type": "code",
   "execution_count": null,
   "id": "37017f07",
   "metadata": {},
   "outputs": [],
   "source": [
    "2name = 'krishna'"
   ]
  },
  {
   "cell_type": "code",
   "execution_count": null,
   "id": "563d7532",
   "metadata": {},
   "outputs": [],
   "source": [
    "for = 30"
   ]
  },
  {
   "cell_type": "markdown",
   "id": "549d868f",
   "metadata": {},
   "source": [
    "# Python Execution modes\n",
    "\n",
    "- `Interactive Mode`\n",
    "    - just type `python` in the terminal\n",
    "    - python reads and executes individual commands typed in a shell or terminal immediately (Read-Eval-Print Loop—REPL).\n",
    "   \n",
    "- `Batch mode/Script Mode`\n",
    "    - type `python filename.py` in the terminal\n",
    "    - Python runs an entire `.py` file all at once, executing the statements sequentially while compiling and interpreting internally.\n",
    "    - The Python code written in a file with a `.py` extension or typed interactively.\n",
    "    - `Compilation to Bytecode`: The Python interpreter first compiles the source code into an intermediate, platform-independent bytecode (a .pyc file). This step includes syntax checking and converting readable code into a lower-level form.\n",
    "    - `Python Virtual Machine (PVM)` : The bytecode is then executed by the Python Virtual Machine, an interpreter that reads the bytecode line by line and converts it into machine-level instructions understandable by the CPU. This step happens at runtime \n",
    "\n",
    "**Frequently used functions**\n",
    "- Everything in python is treated as `object`\n",
    "- `print()` ==> To display the content on the console\n",
    "- `id(obj)` ==> To get the address location of an object\n",
    "- `type(obj)` ==> to know the data type of the object"
   ]
  },
  {
   "cell_type": "markdown",
   "id": "749916a8",
   "metadata": {},
   "source": [
    "# Jupyter notebook\n",
    "\n",
    "- Jupyter Notebook is an open-source interactive computing environment.\n",
    "- It lets you create and share documents (called notebooks) that contain:\n",
    "   - Code (Python, R, Julia, etc.)\n",
    "   - Output (results, graphs, tables)\n",
    "   - Text (formatted with Markdown)\n",
    "   - Visualizations (plots, charts, interactive widgets)\n",
    "- To write the comments we have to use `#` at the beginning of the line"
   ]
  },
  {
   "cell_type": "markdown",
   "id": "2a4e6eb7",
   "metadata": {},
   "source": [
    "## This is the program to demonstrate the Jupyter notebook"
   ]
  },
  {
   "cell_type": "code",
   "execution_count": null,
   "id": "309dea41",
   "metadata": {},
   "outputs": [],
   "source": [
    "# This is the comment \n",
    "# This is the first program\n",
    "print(\"All power is within you\")"
   ]
  },
  {
   "cell_type": "markdown",
   "id": "4a2459a3",
   "metadata": {},
   "source": [
    "## Insert image\n",
    "\n",
    "![Text](images/logo1.png)"
   ]
  },
  {
   "cell_type": "code",
   "execution_count": null,
   "id": "a6985710",
   "metadata": {},
   "outputs": [],
   "source": [
    "# This code snippet draws a pie graph\n",
    "import matplotlib.pyplot as plt\n",
    "\n",
    "# Data to plot\n",
    "labels = ['Python', 'Java', 'C', 'C++']\n",
    "sizes = [40, 30, 20, 10]  # usage percentages\n",
    "\n",
    "# Plot\n",
    "plt.figure(figsize=(6,6))\n",
    "plt.pie(sizes, labels=labels, autopct='%1.1f%%', startangle=140)\n",
    "plt.title('Programming Language Usage Distribution')\n",
    "plt.axis('equal')  # Equal aspect ratio ensures pie is drawn as a circle.\n",
    "plt.show()\n"
   ]
  },
  {
   "cell_type": "markdown",
   "id": "96b220b8",
   "metadata": {},
   "source": [
    "# Datatypes\n",
    "\n",
    "- `Fundamental or basic datatypes`\n",
    "    - represent basic values\n",
    "    - int, float, complex(Numerical values), bool,str ==> immutable\n",
    "- `collection`\n",
    "    - represent multiple values\n",
    "    - list, tuple, set, dict\n",
    "    - list ==> `[]` ==> Mutable\n",
    "    - tuple ==> `()`==> |Immutable\n",
    "    - set ==> `{}` ==> mutable\n",
    "    - frozenset ==> `{}` ==> immutable  \n",
    "    - dict ==> `{}` ==> mutable\n",
    "- `None` ==> Represents absence of value\n",
    "- `Binary types`\n",
    "    - `bytes` : Immutable sequence of bytes.\n",
    "    - `bytearray`: Mutable sequence of bytes.\n",
    "\n",
    "# Mutable and Immutable\n",
    "\n",
    "**Mutable**\n",
    "- Mutable objects are those whose values can be changed after they are created\n",
    "- A mutable object allows its contents to be changed in place without changing its identity (memory location)"
   ]
  },
  {
   "cell_type": "code",
   "execution_count": null,
   "id": "df9140a9",
   "metadata": {},
   "outputs": [],
   "source": [
    "numbers = [1, 2, 3]\n",
    "print(f\"Address location of numbers : {id(numbers)} and its content :{numbers}\")\n",
    "numbers.append(4)  # Now numbers is [1, 2, 3, 4]\n",
    "print(f\"Address location of numbers : {id(numbers)} and its content :{numbers}\")"
   ]
  },
  {
   "cell_type": "markdown",
   "id": "26ed9894",
   "metadata": {},
   "source": [
    "**Immutable**\n",
    "- Immutable objects cannot be altered once created\n",
    "- An immutable object does not allow changes to its contents after creation; any modification creates a new object.(memory location is changed)"
   ]
  },
  {
   "cell_type": "code",
   "execution_count": null,
   "id": "347b9b13",
   "metadata": {},
   "outputs": [],
   "source": [
    "greeting = \"Hello\"\n",
    "greeting[1] = \"J\"  # Error: 'str' object does not support item assignment\n"
   ]
  },
  {
   "cell_type": "code",
   "execution_count": null,
   "id": "c797c7a5",
   "metadata": {},
   "outputs": [],
   "source": [
    "x = 5\n",
    "print(\"Before Modification \")\n",
    "print(f\"Value of x :{x} and address location :{id(x)}\")\n",
    "x = x + 1  # Creates a new int object with value 6\n",
    "print(\"After Modification \")\n",
    "print(f\"Value of x :{x} and address location :{id(x)}\")"
   ]
  },
  {
   "cell_type": "markdown",
   "id": "f4a485d9",
   "metadata": {},
   "source": [
    "# Fundamental Data Types\n",
    "\n",
    "## int\n",
    "- Represents whole numbers, both positive and negative, without decimals\n",
    "- Eg: 7,-8\n",
    "\n",
    "- 4 forms \n",
    "  - `decimal` ==> base-10\n",
    "    - default notation\n",
    "    - allowed digits 0-9\n",
    "  - `binary` ==> base-2\n",
    "    - allowed digits will be 0 and 1\n",
    "    - it should start with `0b` or `0B`\n",
    "  - `octal` ==> base-8\n",
    "    - allowed digits ==> 0 to 7\n",
    "    - it should starts with `0o` or `0O`\n",
    "  - `hexa decimal`==> base-16\n",
    "    - allowed digits ==> 0-9, a-f, A-F \n",
    "    - a/A : 10\n",
    "    - b/B : 11\n",
    "    - c/C : 12\n",
    "    - d/D : 13\n",
    "    - e/E : 14\n",
    "    - f/F : 15\n",
    "    - it should starts with with `0x`  or `0X`\n",
    "- Eventhough we are representing the binary/octal/  hexa decimal when we print the variable it will be in the decimal form only\n"
   ]
  },
  {
   "cell_type": "code",
   "execution_count": null,
   "id": "5c6a7da6",
   "metadata": {},
   "outputs": [],
   "source": [
    "n1 = 0b1010\n",
    "print(f\"Data type of n1 :{type(n1)} and value :{n1}\")"
   ]
  },
  {
   "cell_type": "code",
   "execution_count": null,
   "id": "2930e465",
   "metadata": {},
   "outputs": [],
   "source": [
    "n2 = 0O12\n",
    "print(f\"Data type of n1 :{type(n2)} and value :{n2}\")"
   ]
  },
  {
   "cell_type": "code",
   "execution_count": null,
   "id": "08eef887",
   "metadata": {},
   "outputs": [],
   "source": [
    "n3 = 0xa2\n",
    "print(f\"Data type of n1 :{type(n3)} and value :{n3}\")"
   ]
  },
  {
   "cell_type": "markdown",
   "id": "61c70d1a",
   "metadata": {},
   "source": [
    "### Base conversion functions\n",
    "- it will convert one base to another base\n",
    "- `bin(x)` ==>  it will convert other base to binary form\n",
    "- `oct(x)` ==>  it will convert other base to Octal form\n",
    "- `hex(x)` ==>  it will convert other base to hexadecimal form"
   ]
  },
  {
   "cell_type": "code",
   "execution_count": null,
   "id": "9447bbcd",
   "metadata": {},
   "outputs": [],
   "source": [
    "a = 10 # decimal number\n",
    "bin(a)"
   ]
  },
  {
   "cell_type": "code",
   "execution_count": null,
   "id": "3a18310d",
   "metadata": {},
   "outputs": [],
   "source": [
    "oct(a)"
   ]
  },
  {
   "cell_type": "code",
   "execution_count": null,
   "id": "32f6097d",
   "metadata": {},
   "outputs": [],
   "source": [
    "hex(a)"
   ]
  },
  {
   "cell_type": "markdown",
   "id": "5f72debf",
   "metadata": {},
   "source": [
    "\n",
    "## float\n",
    "- Used for real numbers (numbers with decimals) \n",
    "- Eg: 3.14, -0.001, or 0.0.\n",
    "- Can also represent numbers in scientific notation, e.g., `1e4` ==> `10000` "
   ]
  },
  {
   "cell_type": "code",
   "execution_count": null,
   "id": "2ac627c6",
   "metadata": {},
   "outputs": [],
   "source": [
    "f1 = 12.345\n",
    "print(f\"Value of f1 :{f1} and data type is :{type(f1)}\")"
   ]
  },
  {
   "cell_type": "code",
   "execution_count": null,
   "id": "1b051d61",
   "metadata": {},
   "outputs": [],
   "source": [
    "f2 = 1e4\n",
    "print(f\"Value of f1 :{f2} and data type is :{type(f2)}\")"
   ]
  },
  {
   "cell_type": "markdown",
   "id": "680e3736",
   "metadata": {},
   "source": [
    "## complex\n",
    "- Represents numbers with real and imaginary parts, written as `a + bj` \n",
    "- where `a` ==> `Real part` ==> int(decimal,binary,octal,hexa decimal)/float\n",
    "- `b` ==> `Imaginary part` ==> int(decimal)/float\n",
    "- `var = 2+3.5j`\n",
    "    - `var.real` ==> to get the real part\n",
    "    - `var.imag` ==> to get the imaginary part"
   ]
  },
  {
   "cell_type": "code",
   "execution_count": null,
   "id": "db161201",
   "metadata": {},
   "outputs": [],
   "source": [
    "c = 2+3.5j\n",
    "print(\"Real part\", c.real)\n",
    "print(\"Imaginary part\", c.imag)"
   ]
  },
  {
   "cell_type": "markdown",
   "id": "4a98ece5",
   "metadata": {},
   "source": [
    "## bool\n",
    "- Represents truth values ==> `True` / `False`\n",
    "- booleans as Integers: `True` behaves as `1`, and `False` as `0` in arithmetic expressions."
   ]
  },
  {
   "cell_type": "code",
   "execution_count": null,
   "id": "014a16f1",
   "metadata": {},
   "outputs": [],
   "source": [
    "a = True\n",
    "print(\"Data type of a : {type(a)}\")"
   ]
  },
  {
   "cell_type": "code",
   "execution_count": null,
   "id": "f5b48fa3",
   "metadata": {},
   "outputs": [],
   "source": [
    "print(True * 20)"
   ]
  },
  {
   "cell_type": "markdown",
   "id": "6b1696ee",
   "metadata": {},
   "source": [
    "## str\n",
    "- There is no `char` data type in python \n",
    "- `str` acts like both fundamental data type and collection also\n",
    "- - we can represent with `single quotes('')`\n",
    "- `double quotes(\"\")`\n",
    "- `triple quotes(''' ''')/(\"\"\" \"\"\")` => DocString(help documentation) , multi line strings, multiline comments"
   ]
  },
  {
   "cell_type": "code",
   "execution_count": null,
   "id": "ac8b30e7",
   "metadata": {},
   "outputs": [],
   "source": [
    "msg = \"\"\"All power is within you\n",
    "Believe on yourself\n",
    "You can do anything and everything\"\"\"\n",
    "print(msg)\n",
    "print(type(msg))"
   ]
  },
  {
   "cell_type": "code",
   "execution_count": null,
   "id": "7ebf28ab",
   "metadata": {},
   "outputs": [],
   "source": [
    "# single line comment\n",
    "'''This is multiline comment\n",
    "This is second line\n",
    "This is third line'''"
   ]
  },
  {
   "cell_type": "markdown",
   "id": "7fd4ed36",
   "metadata": {},
   "source": [
    "## Type conversion function \n",
    "- convert one type to another type\n",
    "\n",
    "### `int(x)`\n",
    "  - `x` can be `int, float, complex, bool, str`\n",
    "  - float to int ==> floats gets truncated to their integer part\n",
    "  - complex to int ==> Conversion is impossible -> Raises error\n",
    "  - bool to int ==> converts bool to int\n",
    "  - str to int ==> The str should be in base-10 form "
   ]
  },
  {
   "cell_type": "code",
   "execution_count": null,
   "id": "bd649ffc",
   "metadata": {},
   "outputs": [],
   "source": [
    "int(25.6)"
   ]
  },
  {
   "cell_type": "code",
   "execution_count": null,
   "id": "2b548a7e",
   "metadata": {},
   "outputs": [],
   "source": [
    "int(3+4.5j)"
   ]
  },
  {
   "cell_type": "code",
   "execution_count": null,
   "id": "49061f36",
   "metadata": {},
   "outputs": [],
   "source": [
    "int(True)"
   ]
  },
  {
   "cell_type": "code",
   "execution_count": null,
   "id": "72e69855",
   "metadata": {},
   "outputs": [],
   "source": [
    "int(\"125\")"
   ]
  },
  {
   "cell_type": "code",
   "execution_count": null,
   "id": "acdfeac9",
   "metadata": {},
   "outputs": [],
   "source": [
    "int(\"2.5\")"
   ]
  },
  {
   "cell_type": "code",
   "execution_count": null,
   "id": "a1e2b994",
   "metadata": {},
   "outputs": [],
   "source": [
    "int(\"ten\")"
   ]
  },
  {
   "cell_type": "markdown",
   "id": "693d60c0",
   "metadata": {},
   "source": [
    "### `float(x)`\n",
    "  - converts other type to float type\n",
    "  - int to float ==> possible\n",
    "  - complex to float ==> Conversion not possible -> Raises Error\n",
    "  - bool to float ==> possible\n",
    "  - str to float ==> possible. the str should be either in `base-10 form` or `float form` "
   ]
  },
  {
   "cell_type": "code",
   "execution_count": null,
   "id": "b71d1180",
   "metadata": {},
   "outputs": [],
   "source": [
    "float(25)"
   ]
  },
  {
   "cell_type": "code",
   "execution_count": null,
   "id": "445d97ae",
   "metadata": {},
   "outputs": [],
   "source": [
    "float(2+3.45j)"
   ]
  },
  {
   "cell_type": "code",
   "execution_count": null,
   "id": "7560bda8",
   "metadata": {},
   "outputs": [],
   "source": [
    "float(False)"
   ]
  },
  {
   "cell_type": "code",
   "execution_count": null,
   "id": "98410015",
   "metadata": {},
   "outputs": [],
   "source": [
    "float(\"235\")"
   ]
  },
  {
   "cell_type": "code",
   "execution_count": null,
   "id": "bb4c60c2",
   "metadata": {},
   "outputs": [],
   "source": [
    "float(\"2.345\")"
   ]
  },
  {
   "cell_type": "code",
   "execution_count": null,
   "id": "0cc89d23",
   "metadata": {},
   "outputs": [],
   "source": [
    "float(\"ten\")"
   ]
  },
  {
   "cell_type": "markdown",
   "id": "ac57b5cb",
   "metadata": {},
   "source": [
    "### `complex(x)`\n",
    "\n",
    "- convert other type to complex\n",
    "- complex ==> real and imaginary \n",
    "- complex(x) ==> x will be real\n",
    "- complex(x,y) ==> x: real and y: imaginary\n",
    "- int to complex \n",
    "- float to complex \n",
    "- bool to complex\n",
    "- str to complex ==> str should be either in `base-10 form` or `float` form\n",
    "- complex(x,y) ==> if x is str form then it will not take the second arg."
   ]
  },
  {
   "cell_type": "code",
   "execution_count": null,
   "id": "5d6c2fad",
   "metadata": {},
   "outputs": [],
   "source": [
    "complex(2)"
   ]
  },
  {
   "cell_type": "code",
   "execution_count": null,
   "id": "7235a4d9",
   "metadata": {},
   "outputs": [],
   "source": [
    "complex(2.5)"
   ]
  },
  {
   "cell_type": "code",
   "execution_count": null,
   "id": "eb27256f",
   "metadata": {},
   "outputs": [],
   "source": [
    "complex(True)"
   ]
  },
  {
   "cell_type": "code",
   "execution_count": null,
   "id": "671efff5",
   "metadata": {},
   "outputs": [],
   "source": [
    "complex(\"12\")"
   ]
  },
  {
   "cell_type": "code",
   "execution_count": null,
   "id": "94f34fab",
   "metadata": {},
   "outputs": [],
   "source": [
    "complex(1,2.5)"
   ]
  },
  {
   "cell_type": "code",
   "execution_count": null,
   "id": "4c8efdf0",
   "metadata": {},
   "outputs": [],
   "source": [
    "complex(2.5,6)"
   ]
  },
  {
   "cell_type": "code",
   "execution_count": null,
   "id": "ff02edd7",
   "metadata": {},
   "outputs": [],
   "source": [
    "complex(False,True)"
   ]
  },
  {
   "cell_type": "code",
   "execution_count": null,
   "id": "0432a702",
   "metadata": {},
   "outputs": [],
   "source": [
    "complex(\"12\",\"3\")"
   ]
  },
  {
   "cell_type": "code",
   "execution_count": null,
   "id": "25d50a97",
   "metadata": {},
   "outputs": [],
   "source": [
    "complex(\"1.25\")"
   ]
  },
  {
   "cell_type": "markdown",
   "id": "05f0641c",
   "metadata": {},
   "source": [
    "### `bool(x)`\n",
    " - converts other type to bool type\n",
    " - numbers(int/float) : 0/0.0 ==> `False` non-zero value==> `True`\n",
    " - str : empty str ==> `False` non-empty ==> `True`\n",
    " - collections ==> empty collection ==> `False` and non-empty collection ==> `True`\n",
    " - `len()` is used to know the size of the given str(collections)"
   ]
  },
  {
   "cell_type": "code",
   "execution_count": null,
   "id": "f9acffc5",
   "metadata": {},
   "outputs": [],
   "source": [
    "bool(10)"
   ]
  },
  {
   "cell_type": "code",
   "execution_count": null,
   "id": "a9af13c6",
   "metadata": {},
   "outputs": [],
   "source": [
    "bool(0.0)"
   ]
  },
  {
   "cell_type": "code",
   "execution_count": null,
   "id": "497ded48",
   "metadata": {},
   "outputs": [],
   "source": [
    "bool(2+5j)"
   ]
  },
  {
   "cell_type": "code",
   "execution_count": null,
   "id": "ff431625",
   "metadata": {},
   "outputs": [],
   "source": [
    "bool('super')"
   ]
  },
  {
   "cell_type": "markdown",
   "id": "d0fa5e6b",
   "metadata": {},
   "source": [
    "### `str(x)`\n",
    "- converts other type to str type"
   ]
  },
  {
   "cell_type": "code",
   "execution_count": null,
   "id": "f89d693d",
   "metadata": {},
   "outputs": [],
   "source": [
    "str(10)"
   ]
  },
  {
   "cell_type": "code",
   "execution_count": null,
   "id": "df311014",
   "metadata": {},
   "outputs": [],
   "source": [
    "str(2.45)"
   ]
  },
  {
   "cell_type": "code",
   "execution_count": null,
   "id": "5d3bd42b",
   "metadata": {},
   "outputs": [],
   "source": [
    "str(2+4.5j)"
   ]
  },
  {
   "cell_type": "code",
   "execution_count": null,
   "id": "9a8e3301",
   "metadata": {},
   "outputs": [],
   "source": [
    "str(True)"
   ]
  },
  {
   "cell_type": "markdown",
   "id": "4b389a3a",
   "metadata": {},
   "source": [
    "# range(start,stop,step)\n",
    "\n",
    "- It represents the sequence of integers \n",
    "- It generates the numbers from `start` to `stop-1` with optional step size(either increment or decrement)\n",
    "- `start`: The starting integer of the sequence (default is 0).\n",
    "- `stop`: The end value (the sequence stops before this number). \n",
    "- `step`: The amount by which the sequence increments or decrements (default is 1).\n",
    "\n",
    "- 3 forms of usage\n",
    "    - one argument ==> range(stop) ==> from `0 to stop-1`\n",
    "    - Two arguments ==> range(start,stop) ==> from `start to stop-1`\n",
    "    - Three arguments ==> range(start,stop,step) ==> from `start to stop-1` with increment or decrement of `step`"
   ]
  },
  {
   "cell_type": "code",
   "execution_count": null,
   "id": "df9a0bb5",
   "metadata": {},
   "outputs": [],
   "source": [
    "for i in range(5):\n",
    "    print(i,end=' ')"
   ]
  },
  {
   "cell_type": "code",
   "execution_count": null,
   "id": "10a75c7c",
   "metadata": {},
   "outputs": [],
   "source": [
    "for i in range(5,10):\n",
    "    print(i,end=' ')"
   ]
  },
  {
   "cell_type": "code",
   "execution_count": null,
   "id": "0f2c6cb5",
   "metadata": {},
   "outputs": [],
   "source": [
    "for i in range(10,20,2):\n",
    "    print(i,end=' ')"
   ]
  },
  {
   "cell_type": "code",
   "execution_count": null,
   "id": "fe7e388e",
   "metadata": {},
   "outputs": [],
   "source": [
    "for i in range(40,20,-2):\n",
    "    print(i,end=' ')"
   ]
  },
  {
   "cell_type": "markdown",
   "id": "cb115167",
   "metadata": {},
   "source": [
    "# None\n",
    "- It is a special constant represents the `absence of value` or a `null value`\n",
    "- The data type is `NoneType`\n",
    "- Singleton ==> There is exactly one instance of None in a Python runtime—every variable assigned None points to the same object."
   ]
  },
  {
   "cell_type": "code",
   "execution_count": null,
   "id": "56360236",
   "metadata": {},
   "outputs": [],
   "source": [
    "a = None\n",
    "print(f\"The value of a :{a} and data type is :{type(a)}\")"
   ]
  },
  {
   "cell_type": "code",
   "execution_count": null,
   "id": "19100bcc",
   "metadata": {},
   "outputs": [],
   "source": [
    "a = None\n",
    "b = None\n",
    "print(f\"Address of a : {id(a)}\")\n",
    "print(f\"Address of b : {id(b)}\")"
   ]
  },
  {
   "cell_type": "markdown",
   "id": "ab79665d",
   "metadata": {},
   "source": [
    "# Collection\n",
    "\n",
    "- group of elements\n",
    "- `[]` ==> list\n",
    "- `()` ==> tuple\n",
    "- `{}` ==> set/dict"
   ]
  },
  {
   "cell_type": "code",
   "execution_count": null,
   "id": "2401781b",
   "metadata": {},
   "outputs": [],
   "source": []
  }
 ],
 "metadata": {
  "kernelspec": {
   "display_name": "base",
   "language": "python",
   "name": "python3"
  },
  "language_info": {
   "codemirror_mode": {
    "name": "ipython",
    "version": 3
   },
   "file_extension": ".py",
   "mimetype": "text/x-python",
   "name": "python",
   "nbconvert_exporter": "python",
   "pygments_lexer": "ipython3",
   "version": "3.13.5"
  }
 },
 "nbformat": 4,
 "nbformat_minor": 5
}
