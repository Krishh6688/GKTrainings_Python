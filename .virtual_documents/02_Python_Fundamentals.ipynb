











print("All power is within you")





import sys
print("Implementation name : ",sys.implementation.name)





help('keywords')


2name = 'krishna'


for = 30











# This is the comment 
# This is the first program
print("All power is within you")





# This code snippet draws a pie graph
import matplotlib.pyplot as plt

# Data to plot
labels = ['Python', 'Java', 'C', 'C++']
sizes = [40, 30, 20, 10]  # usage percentages

# Plot
plt.figure(figsize=(6,6))
plt.pie(sizes, labels=labels, autopct='%1.1f%%', startangle=140)
plt.title('Programming Language Usage Distribution')
plt.axis('equal')  # Equal aspect ratio ensures pie is drawn as a circle.
plt.show()






numbers = [1, 2, 3]
print(f"Address location of numbers : {id(numbers)} and its content :{numbers}")
numbers.append(4)  # Now numbers is [1, 2, 3, 4]
print(f"Address location of numbers : {id(numbers)} and its content :{numbers}")





greeting = "Hello"
greeting[1] = "J"  # Error: 'str' object does not support item assignment



x = 5
print("Before Modification ")
print(f"Value of x :{x} and address location :{id(x)}")
x = x + 1  # Creates a new int object with value 6
print("After Modification ")
print(f"Value of x :{x} and address location :{id(x)}")





n1 = 0b1010
print(f"Data type of n1 :{type(n1)} and value :{n1}")


n2 = 0O12
print(f"Data type of n1 :{type(n2)} and value :{n2}")


n3 = 0xa2
print(f"Data type of n1 :{type(n3)} and value :{n3}")





a = 10 # decimal number
bin(a)


oct(a)


hex(a)





f1 = 12.345
print(f"Value of f1 :{f1} and data type is :{type(f1)}")


f2 = 1e4
print(f"Value of f1 :{f2} and data type is :{type(f2)}")





c = 2+3.5j
print("Real part", c.real)
print("Imaginary part", c.imag)





a = True
print("Data type of a : {type(a)}")


print(True * 20)





msg = """All power is within you
Believe on yourself
You can do anything and everything"""
print(msg)
print(type(msg))


# single line comment
'''This is multiline comment
This is second line
This is third line'''





int(25.6)


int(3+4.5j)


int(True)


int("125")


int("2.5")


int("ten")





float(25)


float(2+3.45j)


float(False)


float("235")


float("2.345")


float("ten")





complex(2)


complex(2.5)


complex(True)


complex("12")


complex(1,2.5)


complex(2.5,6)


complex(False,True)


complex("12","3")


complex("1.25")





bool(10)


bool(0.0)


bool(2+5j)


bool('super')





str(10)


str(2.45)


str(2+4.5j)


str(True)





for i in range(5):
    print(i,end=' ')


for i in range(5,10):
    print(i,end=' ')


for i in range(10,20,2):
    print(i,end=' ')


for i in range(40,20,-2):
    print(i,end=' ')





a = None
print(f"The value of a :{a} and data type is :{type(a)}")


a = None
b = None
print(f"Address of a : {id(a)}")
print(f"Address of b : {id(b)}")






