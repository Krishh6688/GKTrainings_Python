{
 "cells": [
  {
   "cell_type": "markdown",
   "id": "4589a938",
   "metadata": {},
   "source": [
    "# Softwares to install\n",
    "\n",
    "**Offline**\n",
    "- `python` ==> `https://www.python.org/`\n",
    "- `Anaconda` ==> `https://www.anaconda.com/`\n",
    "- `VSCode` ==> `https://code.visualstudio.com/`\n",
    "    - Extensions \n",
    "        - `python` ==> `Microsoft`\n",
    "        - `jupyter` ==> `Microsoft`\n",
    "- `git` ==> `http://git-scm.com/downloads`\n",
    "    - Git is a free, open-source distributed version control system designed to efficiently track changes to files and manage collaborative work on software projects\n",
    "    - `GitHub` is a web-based platform that hosts Git repositories in the cloud, enabling developers to store, share, and collaboratively work on code projects.\n",
    "\n",
    "**Online**\n",
    "- `Google colab` ==>  `https://code.visualstudio.com/`\n",
    "- `Firebase Studio` ==> `https://firebase.google.com/`\n"
   ]
  }
 ],
 "metadata": {
  "language_info": {
   "name": "python"
  }
 },
 "nbformat": 4,
 "nbformat_minor": 5
}
